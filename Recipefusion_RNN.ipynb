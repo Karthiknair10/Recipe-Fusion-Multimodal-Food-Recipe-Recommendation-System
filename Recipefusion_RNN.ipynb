{
  "nbformat": 4,
  "nbformat_minor": 0,
  "metadata": {
    "colab": {
      "provenance": [],
      "gpuType": "T4"
    },
    "kernelspec": {
      "name": "python3",
      "display_name": "Python 3"
    },
    "language_info": {
      "name": "python"
    },
    "accelerator": "GPU"
  },
  "cells": [
    {
      "cell_type": "code",
      "execution_count": null,
      "metadata": {
        "id": "PxQO3AbcLfet"
      },
      "outputs": [],
      "source": [
        "import pandas as pd\n",
        "import numpy as np\n",
        "from sklearn.model_selection import train_test_split\n",
        "from tensorflow.keras.models import Sequential\n",
        "from tensorflow.keras.layers import Embedding, LSTM, Dense\n",
        "from tensorflow.keras.preprocessing.text import Tokenizer\n",
        "from tensorflow.keras.preprocessing.sequence import pad_sequences"
      ]
    },
    {
      "cell_type": "code",
      "source": [
        "import tensorflow as tf\n",
        "print(tf.__version__)\n"
      ],
      "metadata": {
        "id": "2mXNgFQVh-zd",
        "outputId": "67e1beeb-a743-4d05-b9d1-a2873663f152",
        "colab": {
          "base_uri": "https://localhost:8080/"
        }
      },
      "execution_count": null,
      "outputs": [
        {
          "output_type": "stream",
          "name": "stdout",
          "text": [
            "2.15.0\n"
          ]
        }
      ]
    },
    {
      "cell_type": "code",
      "source": [
        "import keras\n",
        "print(keras.__version__)"
      ],
      "metadata": {
        "id": "LW99P17v5Zgp",
        "outputId": "4e5a1f53-f545-480b-dfe1-53eecd24f104",
        "colab": {
          "base_uri": "https://localhost:8080/"
        }
      },
      "execution_count": null,
      "outputs": [
        {
          "output_type": "stream",
          "name": "stdout",
          "text": [
            "2.15.0\n"
          ]
        }
      ]
    },
    {
      "cell_type": "code",
      "source": [
        "from google.colab import drive\n",
        "drive.mount('/content/drive')"
      ],
      "metadata": {
        "id": "N7_vqoydLhDV",
        "colab": {
          "base_uri": "https://localhost:8080/"
        },
        "outputId": "3398128c-131c-4359-aadb-3a09321d5bc7"
      },
      "execution_count": null,
      "outputs": [
        {
          "output_type": "stream",
          "name": "stdout",
          "text": [
            "Mounted at /content/drive\n"
          ]
        }
      ]
    },
    {
      "cell_type": "code",
      "source": [
        "# Load the dataset\n",
        "data = pd.read_csv('/content/drive/MyDrive/RecipeFusion/fusionrecipe.csv')\n"
      ],
      "metadata": {
        "id": "lHh2r-96LhM5"
      },
      "execution_count": null,
      "outputs": []
    },
    {
      "cell_type": "code",
      "source": [
        "data.head()"
      ],
      "metadata": {
        "id": "s1KixO-5LhQR",
        "colab": {
          "base_uri": "https://localhost:8080/",
          "height": 625
        },
        "outputId": "4787910f-3435-498c-f2df-ee9c415ee008"
      },
      "execution_count": null,
      "outputs": [
        {
          "output_type": "execute_result",
          "data": {
            "text/plain": [
              "                      name                                          image_url  \\\n",
              "0         Indian Fry Bread  https://media.istockphoto.com/id/691985214/pho...   \n",
              "1     Baked Indian Pudding  https://s3.amazonaws.com/grecipes/public/pictu...   \n",
              "2  Cabbage Pachadi (salad)  https://s3.amazonaws.com/grecipes/public/pictu...   \n",
              "3           Shepuchi Bhaji  http://grecipes.s3.amazonaws.com/recipe_pictur...   \n",
              "4          Beetroot Cutlet  https://s3.amazonaws.com/grecipes/public/pictu...   \n",
              "\n",
              "                                         description cuisine       course  \\\n",
              "0  Fried bread is a slice of bread that has been ...  Indian    Appetizer   \n",
              "1  Delicious baked pudding with maple syrup. Grea...  Indian      Dessert   \n",
              "2  Cabbage Pachadi is a South Indian salad made w...  Indian    Side Dish   \n",
              "3  Shepuchi Bhaji is a traditional Maharashtrian ...  Indian  Main Course   \n",
              "4  To make beetroot cutlets, grate boiled beetroo...  Indian    Appetizer   \n",
              "\n",
              "  calories & servings diet   prep_time   cook_time  \\\n",
              "0             682 & 4  Veg  45 minutes  20 minutes   \n",
              "1             581 & 4  Veg  25 minutes  60 minutes   \n",
              "2             134 & 8  Veg  10 minutes   0 minutes   \n",
              "3              31 & 4  Veg  10 minutes  20 minutes   \n",
              "4             190 & 4  Veg  20 minutes  15 minutes   \n",
              "\n",
              "                                         ingredients  \\\n",
              "0  4 cups flour, 2 tbsp. baking powder, 1 tsp. sa...   \n",
              "1  A½ cup cornmeal, 4 cups hot milk, 2 tablespoon...   \n",
              "2  1/1 a medium cabbage (inner leaves only) finel...   \n",
              "3  1 bunch Dill leaves / Shepu leaves, 2 tbsp. Mo...   \n",
              "4  Beetroot - 1 No. (small), Potato - 2 Nos. (med...   \n",
              "\n",
              "                                         instruction  image_id  \n",
              "0  Mix flour, baking powder and salt. Slowly add ...         0  \n",
              "1  Preheat Oven 325 degrees: In a double-broiler ...         1  \n",
              "2  Place the cabbage, tomato, peanut powder, coco...         2  \n",
              "3  1.Soak moong daal for 30 minutes. 2.Chop Dill ...         3  \n",
              "4  Pressure cook Potato and beetroot till 3 whist...         4  "
            ],
            "text/html": [
              "\n",
              "  <div id=\"df-595e1075-f86f-4e32-aeec-f884ffa14d53\" class=\"colab-df-container\">\n",
              "    <div>\n",
              "<style scoped>\n",
              "    .dataframe tbody tr th:only-of-type {\n",
              "        vertical-align: middle;\n",
              "    }\n",
              "\n",
              "    .dataframe tbody tr th {\n",
              "        vertical-align: top;\n",
              "    }\n",
              "\n",
              "    .dataframe thead th {\n",
              "        text-align: right;\n",
              "    }\n",
              "</style>\n",
              "<table border=\"1\" class=\"dataframe\">\n",
              "  <thead>\n",
              "    <tr style=\"text-align: right;\">\n",
              "      <th></th>\n",
              "      <th>name</th>\n",
              "      <th>image_url</th>\n",
              "      <th>description</th>\n",
              "      <th>cuisine</th>\n",
              "      <th>course</th>\n",
              "      <th>calories &amp; servings</th>\n",
              "      <th>diet</th>\n",
              "      <th>prep_time</th>\n",
              "      <th>cook_time</th>\n",
              "      <th>ingredients</th>\n",
              "      <th>instruction</th>\n",
              "      <th>image_id</th>\n",
              "    </tr>\n",
              "  </thead>\n",
              "  <tbody>\n",
              "    <tr>\n",
              "      <th>0</th>\n",
              "      <td>Indian Fry Bread</td>\n",
              "      <td>https://media.istockphoto.com/id/691985214/pho...</td>\n",
              "      <td>Fried bread is a slice of bread that has been ...</td>\n",
              "      <td>Indian</td>\n",
              "      <td>Appetizer</td>\n",
              "      <td>682 &amp; 4</td>\n",
              "      <td>Veg</td>\n",
              "      <td>45 minutes</td>\n",
              "      <td>20 minutes</td>\n",
              "      <td>4 cups flour, 2 tbsp. baking powder, 1 tsp. sa...</td>\n",
              "      <td>Mix flour, baking powder and salt. Slowly add ...</td>\n",
              "      <td>0</td>\n",
              "    </tr>\n",
              "    <tr>\n",
              "      <th>1</th>\n",
              "      <td>Baked Indian Pudding</td>\n",
              "      <td>https://s3.amazonaws.com/grecipes/public/pictu...</td>\n",
              "      <td>Delicious baked pudding with maple syrup. Grea...</td>\n",
              "      <td>Indian</td>\n",
              "      <td>Dessert</td>\n",
              "      <td>581 &amp; 4</td>\n",
              "      <td>Veg</td>\n",
              "      <td>25 minutes</td>\n",
              "      <td>60 minutes</td>\n",
              "      <td>A½ cup cornmeal, 4 cups hot milk, 2 tablespoon...</td>\n",
              "      <td>Preheat Oven 325 degrees: In a double-broiler ...</td>\n",
              "      <td>1</td>\n",
              "    </tr>\n",
              "    <tr>\n",
              "      <th>2</th>\n",
              "      <td>Cabbage Pachadi (salad)</td>\n",
              "      <td>https://s3.amazonaws.com/grecipes/public/pictu...</td>\n",
              "      <td>Cabbage Pachadi is a South Indian salad made w...</td>\n",
              "      <td>Indian</td>\n",
              "      <td>Side Dish</td>\n",
              "      <td>134 &amp; 8</td>\n",
              "      <td>Veg</td>\n",
              "      <td>10 minutes</td>\n",
              "      <td>0 minutes</td>\n",
              "      <td>1/1 a medium cabbage (inner leaves only) finel...</td>\n",
              "      <td>Place the cabbage, tomato, peanut powder, coco...</td>\n",
              "      <td>2</td>\n",
              "    </tr>\n",
              "    <tr>\n",
              "      <th>3</th>\n",
              "      <td>Shepuchi Bhaji</td>\n",
              "      <td>http://grecipes.s3.amazonaws.com/recipe_pictur...</td>\n",
              "      <td>Shepuchi Bhaji is a traditional Maharashtrian ...</td>\n",
              "      <td>Indian</td>\n",
              "      <td>Main Course</td>\n",
              "      <td>31 &amp; 4</td>\n",
              "      <td>Veg</td>\n",
              "      <td>10 minutes</td>\n",
              "      <td>20 minutes</td>\n",
              "      <td>1 bunch Dill leaves / Shepu leaves, 2 tbsp. Mo...</td>\n",
              "      <td>1.Soak moong daal for 30 minutes. 2.Chop Dill ...</td>\n",
              "      <td>3</td>\n",
              "    </tr>\n",
              "    <tr>\n",
              "      <th>4</th>\n",
              "      <td>Beetroot Cutlet</td>\n",
              "      <td>https://s3.amazonaws.com/grecipes/public/pictu...</td>\n",
              "      <td>To make beetroot cutlets, grate boiled beetroo...</td>\n",
              "      <td>Indian</td>\n",
              "      <td>Appetizer</td>\n",
              "      <td>190 &amp; 4</td>\n",
              "      <td>Veg</td>\n",
              "      <td>20 minutes</td>\n",
              "      <td>15 minutes</td>\n",
              "      <td>Beetroot - 1 No. (small), Potato - 2 Nos. (med...</td>\n",
              "      <td>Pressure cook Potato and beetroot till 3 whist...</td>\n",
              "      <td>4</td>\n",
              "    </tr>\n",
              "  </tbody>\n",
              "</table>\n",
              "</div>\n",
              "    <div class=\"colab-df-buttons\">\n",
              "\n",
              "  <div class=\"colab-df-container\">\n",
              "    <button class=\"colab-df-convert\" onclick=\"convertToInteractive('df-595e1075-f86f-4e32-aeec-f884ffa14d53')\"\n",
              "            title=\"Convert this dataframe to an interactive table.\"\n",
              "            style=\"display:none;\">\n",
              "\n",
              "  <svg xmlns=\"http://www.w3.org/2000/svg\" height=\"24px\" viewBox=\"0 -960 960 960\">\n",
              "    <path d=\"M120-120v-720h720v720H120Zm60-500h600v-160H180v160Zm220 220h160v-160H400v160Zm0 220h160v-160H400v160ZM180-400h160v-160H180v160Zm440 0h160v-160H620v160ZM180-180h160v-160H180v160Zm440 0h160v-160H620v160Z\"/>\n",
              "  </svg>\n",
              "    </button>\n",
              "\n",
              "  <style>\n",
              "    .colab-df-container {\n",
              "      display:flex;\n",
              "      gap: 12px;\n",
              "    }\n",
              "\n",
              "    .colab-df-convert {\n",
              "      background-color: #E8F0FE;\n",
              "      border: none;\n",
              "      border-radius: 50%;\n",
              "      cursor: pointer;\n",
              "      display: none;\n",
              "      fill: #1967D2;\n",
              "      height: 32px;\n",
              "      padding: 0 0 0 0;\n",
              "      width: 32px;\n",
              "    }\n",
              "\n",
              "    .colab-df-convert:hover {\n",
              "      background-color: #E2EBFA;\n",
              "      box-shadow: 0px 1px 2px rgba(60, 64, 67, 0.3), 0px 1px 3px 1px rgba(60, 64, 67, 0.15);\n",
              "      fill: #174EA6;\n",
              "    }\n",
              "\n",
              "    .colab-df-buttons div {\n",
              "      margin-bottom: 4px;\n",
              "    }\n",
              "\n",
              "    [theme=dark] .colab-df-convert {\n",
              "      background-color: #3B4455;\n",
              "      fill: #D2E3FC;\n",
              "    }\n",
              "\n",
              "    [theme=dark] .colab-df-convert:hover {\n",
              "      background-color: #434B5C;\n",
              "      box-shadow: 0px 1px 3px 1px rgba(0, 0, 0, 0.15);\n",
              "      filter: drop-shadow(0px 1px 2px rgba(0, 0, 0, 0.3));\n",
              "      fill: #FFFFFF;\n",
              "    }\n",
              "  </style>\n",
              "\n",
              "    <script>\n",
              "      const buttonEl =\n",
              "        document.querySelector('#df-595e1075-f86f-4e32-aeec-f884ffa14d53 button.colab-df-convert');\n",
              "      buttonEl.style.display =\n",
              "        google.colab.kernel.accessAllowed ? 'block' : 'none';\n",
              "\n",
              "      async function convertToInteractive(key) {\n",
              "        const element = document.querySelector('#df-595e1075-f86f-4e32-aeec-f884ffa14d53');\n",
              "        const dataTable =\n",
              "          await google.colab.kernel.invokeFunction('convertToInteractive',\n",
              "                                                    [key], {});\n",
              "        if (!dataTable) return;\n",
              "\n",
              "        const docLinkHtml = 'Like what you see? Visit the ' +\n",
              "          '<a target=\"_blank\" href=https://colab.research.google.com/notebooks/data_table.ipynb>data table notebook</a>'\n",
              "          + ' to learn more about interactive tables.';\n",
              "        element.innerHTML = '';\n",
              "        dataTable['output_type'] = 'display_data';\n",
              "        await google.colab.output.renderOutput(dataTable, element);\n",
              "        const docLink = document.createElement('div');\n",
              "        docLink.innerHTML = docLinkHtml;\n",
              "        element.appendChild(docLink);\n",
              "      }\n",
              "    </script>\n",
              "  </div>\n",
              "\n",
              "\n",
              "<div id=\"df-d0177bd7-007f-4720-93d1-c2395b6da30e\">\n",
              "  <button class=\"colab-df-quickchart\" onclick=\"quickchart('df-d0177bd7-007f-4720-93d1-c2395b6da30e')\"\n",
              "            title=\"Suggest charts\"\n",
              "            style=\"display:none;\">\n",
              "\n",
              "<svg xmlns=\"http://www.w3.org/2000/svg\" height=\"24px\"viewBox=\"0 0 24 24\"\n",
              "     width=\"24px\">\n",
              "    <g>\n",
              "        <path d=\"M19 3H5c-1.1 0-2 .9-2 2v14c0 1.1.9 2 2 2h14c1.1 0 2-.9 2-2V5c0-1.1-.9-2-2-2zM9 17H7v-7h2v7zm4 0h-2V7h2v10zm4 0h-2v-4h2v4z\"/>\n",
              "    </g>\n",
              "</svg>\n",
              "  </button>\n",
              "\n",
              "<style>\n",
              "  .colab-df-quickchart {\n",
              "      --bg-color: #E8F0FE;\n",
              "      --fill-color: #1967D2;\n",
              "      --hover-bg-color: #E2EBFA;\n",
              "      --hover-fill-color: #174EA6;\n",
              "      --disabled-fill-color: #AAA;\n",
              "      --disabled-bg-color: #DDD;\n",
              "  }\n",
              "\n",
              "  [theme=dark] .colab-df-quickchart {\n",
              "      --bg-color: #3B4455;\n",
              "      --fill-color: #D2E3FC;\n",
              "      --hover-bg-color: #434B5C;\n",
              "      --hover-fill-color: #FFFFFF;\n",
              "      --disabled-bg-color: #3B4455;\n",
              "      --disabled-fill-color: #666;\n",
              "  }\n",
              "\n",
              "  .colab-df-quickchart {\n",
              "    background-color: var(--bg-color);\n",
              "    border: none;\n",
              "    border-radius: 50%;\n",
              "    cursor: pointer;\n",
              "    display: none;\n",
              "    fill: var(--fill-color);\n",
              "    height: 32px;\n",
              "    padding: 0;\n",
              "    width: 32px;\n",
              "  }\n",
              "\n",
              "  .colab-df-quickchart:hover {\n",
              "    background-color: var(--hover-bg-color);\n",
              "    box-shadow: 0 1px 2px rgba(60, 64, 67, 0.3), 0 1px 3px 1px rgba(60, 64, 67, 0.15);\n",
              "    fill: var(--button-hover-fill-color);\n",
              "  }\n",
              "\n",
              "  .colab-df-quickchart-complete:disabled,\n",
              "  .colab-df-quickchart-complete:disabled:hover {\n",
              "    background-color: var(--disabled-bg-color);\n",
              "    fill: var(--disabled-fill-color);\n",
              "    box-shadow: none;\n",
              "  }\n",
              "\n",
              "  .colab-df-spinner {\n",
              "    border: 2px solid var(--fill-color);\n",
              "    border-color: transparent;\n",
              "    border-bottom-color: var(--fill-color);\n",
              "    animation:\n",
              "      spin 1s steps(1) infinite;\n",
              "  }\n",
              "\n",
              "  @keyframes spin {\n",
              "    0% {\n",
              "      border-color: transparent;\n",
              "      border-bottom-color: var(--fill-color);\n",
              "      border-left-color: var(--fill-color);\n",
              "    }\n",
              "    20% {\n",
              "      border-color: transparent;\n",
              "      border-left-color: var(--fill-color);\n",
              "      border-top-color: var(--fill-color);\n",
              "    }\n",
              "    30% {\n",
              "      border-color: transparent;\n",
              "      border-left-color: var(--fill-color);\n",
              "      border-top-color: var(--fill-color);\n",
              "      border-right-color: var(--fill-color);\n",
              "    }\n",
              "    40% {\n",
              "      border-color: transparent;\n",
              "      border-right-color: var(--fill-color);\n",
              "      border-top-color: var(--fill-color);\n",
              "    }\n",
              "    60% {\n",
              "      border-color: transparent;\n",
              "      border-right-color: var(--fill-color);\n",
              "    }\n",
              "    80% {\n",
              "      border-color: transparent;\n",
              "      border-right-color: var(--fill-color);\n",
              "      border-bottom-color: var(--fill-color);\n",
              "    }\n",
              "    90% {\n",
              "      border-color: transparent;\n",
              "      border-bottom-color: var(--fill-color);\n",
              "    }\n",
              "  }\n",
              "</style>\n",
              "\n",
              "  <script>\n",
              "    async function quickchart(key) {\n",
              "      const quickchartButtonEl =\n",
              "        document.querySelector('#' + key + ' button');\n",
              "      quickchartButtonEl.disabled = true;  // To prevent multiple clicks.\n",
              "      quickchartButtonEl.classList.add('colab-df-spinner');\n",
              "      try {\n",
              "        const charts = await google.colab.kernel.invokeFunction(\n",
              "            'suggestCharts', [key], {});\n",
              "      } catch (error) {\n",
              "        console.error('Error during call to suggestCharts:', error);\n",
              "      }\n",
              "      quickchartButtonEl.classList.remove('colab-df-spinner');\n",
              "      quickchartButtonEl.classList.add('colab-df-quickchart-complete');\n",
              "    }\n",
              "    (() => {\n",
              "      let quickchartButtonEl =\n",
              "        document.querySelector('#df-d0177bd7-007f-4720-93d1-c2395b6da30e button');\n",
              "      quickchartButtonEl.style.display =\n",
              "        google.colab.kernel.accessAllowed ? 'block' : 'none';\n",
              "    })();\n",
              "  </script>\n",
              "</div>\n",
              "\n",
              "    </div>\n",
              "  </div>\n"
            ],
            "application/vnd.google.colaboratory.intrinsic+json": {
              "type": "dataframe",
              "variable_name": "data",
              "summary": "{\n  \"name\": \"data\",\n  \"rows\": 1152,\n  \"fields\": [\n    {\n      \"column\": \"name\",\n      \"properties\": {\n        \"dtype\": \"string\",\n        \"num_unique_values\": 1143,\n        \"samples\": [\n          \"Fried Green Peas\",\n          \"Buffalo Chicken Wings\",\n          \"Dahi Bhindi\"\n        ],\n        \"semantic_type\": \"\",\n        \"description\": \"\"\n      }\n    },\n    {\n      \"column\": \"image_url\",\n      \"properties\": {\n        \"dtype\": \"string\",\n        \"num_unique_values\": 1132,\n        \"samples\": [\n          \"https://www.stetted.com/wp-content/uploads/2022/11/Chicken-Bacon-Ranch-Pizza-Pic.jpg\",\n          \"https://encrypted-tbn0.gstatic.com/images?q=tbn:ANd9GcRzQJJMjN2n3wSoAV24X_zQDqEKQP8ncJUZTA&usqp=CAU\",\n          \"https://www.shutterstock.com/shutterstock/photos/1951865668/display_1500/stock-photo-potao-drumstick-in-mustard-gravy-or-sojne-data-chorchori-or-shukto-it-is-a-typical-bengali-dish-1951865668.jpg\"\n        ],\n        \"semantic_type\": \"\",\n        \"description\": \"\"\n      }\n    },\n    {\n      \"column\": \"description\",\n      \"properties\": {\n        \"dtype\": \"string\",\n        \"num_unique_values\": 1151,\n        \"samples\": [\n          \"Palak rice, also known as spinach rice, is a vibrant green dish made with fragrant rice cooked in a flavorful spinach puree. The spinach puree is often spiced with aromatics like ginger, garlic, and chilies for a delicious twist.\",\n          \"Sattu Paratha with Chicken Curry is a hearty and flavorful meal popular in North India. Sattu, a roasted gram flour, is stuffed into whole wheat flatbreads and served alongside spicy chicken curry, creating a satisfying and nutritious dish.\",\n          \"Sprouts Curry is a protein-packed vegetarian dish bursting with freshness. Tender sprouted lentils or beans are simmered in a light and flavorful gravy. This vibrant curry features a symphony of spices like turmeric, coriander, and cumin, all balanced with the tang of tomatoes. Enjoyed with fluffy rice or flatbreads, Sprouts Curry is a healthy and satisfying meal.\"\n        ],\n        \"semantic_type\": \"\",\n        \"description\": \"\"\n      }\n    },\n    {\n      \"column\": \"cuisine\",\n      \"properties\": {\n        \"dtype\": \"category\",\n        \"num_unique_values\": 59,\n        \"samples\": [\n          \"Indian\",\n          \"Malaysian\",\n          \"Thai\"\n        ],\n        \"semantic_type\": \"\",\n        \"description\": \"\"\n      }\n    },\n    {\n      \"column\": \"course\",\n      \"properties\": {\n        \"dtype\": \"category\",\n        \"num_unique_values\": 43,\n        \"samples\": [\n          \" Snack\",\n          \"Bread/Dessert\",\n          \"Bread\"\n        ],\n        \"semantic_type\": \"\",\n        \"description\": \"\"\n      }\n    },\n    {\n      \"column\": \"calories & servings\",\n      \"properties\": {\n        \"dtype\": \"category\",\n        \"num_unique_values\": 234,\n        \"samples\": [\n          \"150 & 12\",\n          \"480 & 4\",\n          \"320 & 3\"\n        ],\n        \"semantic_type\": \"\",\n        \"description\": \"\"\n      }\n    },\n    {\n      \"column\": \"diet\",\n      \"properties\": {\n        \"dtype\": \"category\",\n        \"num_unique_values\": 3,\n        \"samples\": [\n          \"Veg\",\n          \"Non-Veg\",\n          \"Non Veg\"\n        ],\n        \"semantic_type\": \"\",\n        \"description\": \"\"\n      }\n    },\n    {\n      \"column\": \"prep_time\",\n      \"properties\": {\n        \"dtype\": \"category\",\n        \"num_unique_values\": 29,\n        \"samples\": [\n          \"30 minutes \",\n          \"15minutes\",\n          \"12 minutes\"\n        ],\n        \"semantic_type\": \"\",\n        \"description\": \"\"\n      }\n    },\n    {\n      \"column\": \"cook_time\",\n      \"properties\": {\n        \"dtype\": \"category\",\n        \"num_unique_values\": 39,\n        \"samples\": [\n          \"240 minutes\",\n          \"5 minutes \",\n          \"25 minutes\"\n        ],\n        \"semantic_type\": \"\",\n        \"description\": \"\"\n      }\n    },\n    {\n      \"column\": \"ingredients\",\n      \"properties\": {\n        \"dtype\": \"string\",\n        \"num_unique_values\": 1152,\n        \"samples\": [\n          \"1 cup thick Poha (flattened rice) , 2 medium potatoes, boiled and mashed , 1/2 cup mixed vegetables (carrots, peas, corn), finely chopped , 1 small onion, finely chopped , 2 green chilies, finely chopped , 1/2 teaspoon ginger paste , 1/2 teaspoon turmeric powder , 1 teaspoon coriander powder , 1/2 teaspoon garam masala , Salt to taste , 2 tablespoons coriander leaves, finely chopped , 2 tablespoons bread crumbs , Oil for shallow frying\",\n          \"250g dried yellow peas (ghugni peas), soaked overnight,250g boneless chicken, cut into small pieces,1 onion,finely chopped,2 tomatoes,finely chopped,2 green chilies,chopped,2 cloves garlic,minced,1-inch ginger,grated,1 teaspoon cumin seeds,1 teaspoon turmeric powder,1 teaspoon red chili powder,1 teaspoon garam masala,Salt to taste,Fresh coriander leaves for garnish,2 tablespoons oil,Water as needed\",\n          \"4 large carrots, peeled and grated , 1/4 cup chopped fresh cilantro , 1/4 cup chopped fresh parsley , 2 cloves garlic, minced , 1/4 cup olive oil , 2 tablespoons lemon juice , 1 teaspoon ground cumin , 1/2 teaspoon ground cinnamon , Salt and pepper to taste , Optional: 1/4 cup chopped almonds or raisins for garnish.\"\n        ],\n        \"semantic_type\": \"\",\n        \"description\": \"\"\n      }\n    },\n    {\n      \"column\": \"instruction\",\n      \"properties\": {\n        \"dtype\": \"string\",\n        \"num_unique_values\": 1144,\n        \"samples\": [\n          \"Drain the soaked chickpeas and rinse them under cold water. Set aside. Heat oil in a pressure cooker or a large pot over medium heat. Add cumin seeds and let them splutter. Add chopped onions and saut\\u00e9 until they turn golden brown. Stir in ginger-garlic paste and cook for another minute until fragrant. Add tomato puree and cook until the oil starts to separate from the mixture. Mix in the coriander powder, garam masala, turmeric powder, red chili powder, and salt. Cook for 2-3 minutes. Add the soaked chickpeas to the pot along with 3-4 cups of water. Close the pressure cooker lid and cook for 20-25 minutes or until the chickpeas are tender. If using a pot, cover and simmer for about 1-1.5 hours until chickpeas are cooked through, stirring occasionally. Once cooked, mash some of the chickpeas with the back of a spoon to thicken the gravy. Garnish with fresh cilantro leaves and serve hot with rice or naan.\",\n          \"Soak the rice noodles in warm water for about 30 minutes, or until they're soft but still slightly firm. Drain and set aside. In a small bowl, mix together soy sauce, oyster sauce, dark soy sauce, fish sauce, and brown sugar. Set aside. Heat 1 tablespoon of vegetable oil in a large skillet or wok over medium-high heat. Add minced garlic and saut\\u00e9 until fragrant, about 30 seconds. Push the garlic to one side of the skillet and crack in the eggs. Scramble the eggs until they're cooked through, then mix them with the garlic. Add the sliced chicken to the skillet and cook until it's no longer pink, about 3-4 minutes. Add the Chinese broccoli to the skillet and stir-fry for another 2-3 minutes, or until it's slightly tender. Push the chicken and broccoli to one side of the skillet and add the remaining tablespoon of vegetable oil to the empty side. Add the drained rice noodles to the oil and stir-fry for 2-3 minutes, or until they're heated through. Pour the sauce over the noodles, chicken, and broccoli. Stir everything together until well coated in the sauce. Cook for an additional 2-3 minutes, allowing the flavors to meld together. Taste the dish and adjust seasoning if necessary, adding freshly ground black pepper to taste. Serve the Chicken Pad See Ew hot, garnished with chopped green onions or cilantro if desired.\",\n          \"Trim the ends of the ladies finger and cut them into thin slices lengthwise. In a bowl, combine chickpea flour, rice flour, chili powder, turmeric powder, coriander powder, cumin powder, and salt. Toss the sliced ladies finger in the flour mixture until evenly coated. Heat oil in a frying pan over medium heat. Once the oil is hot, carefully add the coated ladies finger slices in batches, ensuring they are not overcrowded. Fry the ladies finger slices until they turn golden brown and crispy, stirring occasionally, about 5-7 minutes per batch. Remove the fried ladies finger slices using a slotted spoon and drain excess oil on paper towels. Serve hot as a crispy appetizer or side dish with your favorite dip or chutney.\"\n        ],\n        \"semantic_type\": \"\",\n        \"description\": \"\"\n      }\n    },\n    {\n      \"column\": \"image_id\",\n      \"properties\": {\n        \"dtype\": \"number\",\n        \"std\": 332,\n        \"min\": 0,\n        \"max\": 1151,\n        \"num_unique_values\": 1152,\n        \"samples\": [\n          174,\n          754,\n          584\n        ],\n        \"semantic_type\": \"\",\n        \"description\": \"\"\n      }\n    }\n  ]\n}"
            }
          },
          "metadata": {},
          "execution_count": 5
        }
      ]
    },
    {
      "cell_type": "code",
      "source": [
        "print(\"Dataset info:\")\n",
        "print(data.info())\n"
      ],
      "metadata": {
        "id": "4REKXT2gLhTJ",
        "colab": {
          "base_uri": "https://localhost:8080/"
        },
        "outputId": "fb69cfec-1c0f-4892-fc46-d1dbc75e491d"
      },
      "execution_count": null,
      "outputs": [
        {
          "output_type": "stream",
          "name": "stdout",
          "text": [
            "Dataset info:\n",
            "<class 'pandas.core.frame.DataFrame'>\n",
            "RangeIndex: 1152 entries, 0 to 1151\n",
            "Data columns (total 12 columns):\n",
            " #   Column               Non-Null Count  Dtype \n",
            "---  ------               --------------  ----- \n",
            " 0   name                 1152 non-null   object\n",
            " 1   image_url            1152 non-null   object\n",
            " 2   description          1152 non-null   object\n",
            " 3   cuisine              1152 non-null   object\n",
            " 4   course               1151 non-null   object\n",
            " 5   calories & servings  1152 non-null   object\n",
            " 6   diet                 1152 non-null   object\n",
            " 7   prep_time            1152 non-null   object\n",
            " 8   cook_time            1152 non-null   object\n",
            " 9   ingredients          1152 non-null   object\n",
            " 10  instruction          1144 non-null   object\n",
            " 11  image_id             1152 non-null   int64 \n",
            "dtypes: int64(1), object(11)\n",
            "memory usage: 108.1+ KB\n",
            "None\n"
          ]
        }
      ]
    },
    {
      "cell_type": "code",
      "source": [
        "import pandas as pd\n",
        "import nltk\n",
        "from nltk.stem import PorterStemmer\n",
        "from nltk.tokenize import word_tokenize\n",
        "\n",
        "# Download NLTK resources\n",
        "nltk.download('punkt')\n"
      ],
      "metadata": {
        "id": "wctq-O5ELp08",
        "colab": {
          "base_uri": "https://localhost:8080/"
        },
        "outputId": "1fe64083-ff60-440c-ad15-3acd4dad3333"
      },
      "execution_count": null,
      "outputs": [
        {
          "output_type": "stream",
          "name": "stderr",
          "text": [
            "[nltk_data] Downloading package punkt to /root/nltk_data...\n",
            "[nltk_data]   Unzipping tokenizers/punkt.zip.\n"
          ]
        },
        {
          "output_type": "execute_result",
          "data": {
            "text/plain": [
              "True"
            ]
          },
          "metadata": {},
          "execution_count": 7
        }
      ]
    },
    {
      "cell_type": "code",
      "source": [
        "# Convert any non-string data to string\n",
        "data['instruction'] = data['instruction'].astype(str)\n",
        "\n",
        "# Preprocess the data\n",
        "tokenizer = Tokenizer()\n",
        "tokenizer.fit_on_texts(data['instruction'])\n",
        "total_words = len(tokenizer.word_index) + 1\n",
        "\n",
        "input_sequences = []\n",
        "for line in data['instruction']:\n",
        "    token_list = tokenizer.texts_to_sequences([line])[0]\n",
        "    for i in range(1, len(token_list)):\n",
        "        n_gram_sequence = token_list[:i+1]\n",
        "        input_sequences.append(n_gram_sequence)\n",
        "\n",
        "max_sequence_length = max([len(x) for x in input_sequences])\n",
        "input_sequences = np.array(pad_sequences(input_sequences, maxlen=max_sequence_length, padding='pre'))\n",
        "\n",
        "X, y = input_sequences[:, :-1], input_sequences[:, -1]\n",
        "y = y.reshape(y.shape[0], 1)"
      ],
      "metadata": {
        "id": "gJUhYggoLp4D"
      },
      "execution_count": null,
      "outputs": []
    },
    {
      "cell_type": "code",
      "source": [
        "# Split the dataset into training and testing sets\n",
        "X_train, X_test, y_train, y_test = train_test_split(X, y, test_size=0.2, random_state=42)\n"
      ],
      "metadata": {
        "id": "si-ZtWN5Lp7K"
      },
      "execution_count": null,
      "outputs": []
    },
    {
      "cell_type": "code",
      "source": [
        "# Build the RNN model\n",
        "rnn_model = Sequential()\n",
        "rnn_model.add(Embedding(total_words, 200, input_length=max_sequence_length-1))\n",
        "rnn_model.add(LSTM(200))\n",
        "rnn_model.add(Dense(total_words, activation='softmax'))\n"
      ],
      "metadata": {
        "id": "2fR2SWKOLp-C"
      },
      "execution_count": null,
      "outputs": []
    },
    {
      "cell_type": "code",
      "source": [
        "# Build the RNN model with increased complexity and regularization\n",
        "from tensorflow.keras.layers import Embedding, LSTM, Dense, Dropout\n",
        "rnn_model = Sequential()\n",
        "rnn_model.add(Embedding(total_words, 200, input_length=max_sequence_length-1))\n",
        "rnn_model.add(LSTM(200, return_sequences=True))\n",
        "rnn_model.add(Dropout(0.2))  # Adding dropout for regularization\n",
        "rnn_model.add(LSTM(100))  # Adding another LSTM layer\n",
        "rnn_model.add(Dense(total_words, activation='softmax'))"
      ],
      "metadata": {
        "id": "byKDmn3g0oTl"
      },
      "execution_count": null,
      "outputs": []
    },
    {
      "cell_type": "code",
      "source": [
        "# Compile the model\n",
        "rnn_model.compile(loss='sparse_categorical_crossentropy', optimizer='adam', metrics=['accuracy'])\n"
      ],
      "metadata": {
        "id": "LWwCCMeNMUFe"
      },
      "execution_count": null,
      "outputs": []
    },
    {
      "cell_type": "code",
      "source": [
        "rnn_model.fit(X_train, y_train, epochs=50, verbose=1, validation_split=0.1)"
      ],
      "metadata": {
        "colab": {
          "base_uri": "https://localhost:8080/"
        },
        "id": "tQliC87y1cJ8",
        "outputId": "8dfb3694-d82c-4ff8-d789-811dbdfd4364"
      },
      "execution_count": null,
      "outputs": [
        {
          "output_type": "stream",
          "name": "stdout",
          "text": [
            "Epoch 1/50\n",
            "3945/3945 [==============================] - 156s 39ms/step - loss: 0.9385 - accuracy: 0.7280 - val_loss: 2.9035 - val_accuracy: 0.5396\n",
            "Epoch 2/50\n",
            "3945/3945 [==============================] - 151s 38ms/step - loss: 0.9311 - accuracy: 0.7297 - val_loss: 2.9204 - val_accuracy: 0.5370\n",
            "Epoch 3/50\n",
            "3945/3945 [==============================] - 154s 39ms/step - loss: 0.9238 - accuracy: 0.7307 - val_loss: 2.9121 - val_accuracy: 0.5386\n",
            "Epoch 4/50\n",
            "3945/3945 [==============================] - 150s 38ms/step - loss: 0.9180 - accuracy: 0.7320 - val_loss: 2.9304 - val_accuracy: 0.5392\n",
            "Epoch 5/50\n",
            "3945/3945 [==============================] - 155s 39ms/step - loss: 0.9132 - accuracy: 0.7332 - val_loss: 2.9368 - val_accuracy: 0.5414\n",
            "Epoch 6/50\n",
            "3945/3945 [==============================] - 151s 38ms/step - loss: 0.9136 - accuracy: 0.7331 - val_loss: 2.9394 - val_accuracy: 0.5391\n",
            "Epoch 7/50\n",
            "3945/3945 [==============================] - 150s 38ms/step - loss: 0.9072 - accuracy: 0.7359 - val_loss: 2.9577 - val_accuracy: 0.5399\n",
            "Epoch 8/50\n",
            "3945/3945 [==============================] - 151s 38ms/step - loss: 0.9021 - accuracy: 0.7364 - val_loss: 2.9691 - val_accuracy: 0.5375\n",
            "Epoch 9/50\n",
            "3945/3945 [==============================] - 151s 38ms/step - loss: 0.9017 - accuracy: 0.7364 - val_loss: 2.9896 - val_accuracy: 0.5369\n",
            "Epoch 10/50\n",
            "3945/3945 [==============================] - 150s 38ms/step - loss: 0.8983 - accuracy: 0.7366 - val_loss: 2.9818 - val_accuracy: 0.5387\n",
            "Epoch 11/50\n",
            "3945/3945 [==============================] - 154s 39ms/step - loss: 0.8926 - accuracy: 0.7379 - val_loss: 3.0014 - val_accuracy: 0.5396\n",
            "Epoch 12/50\n",
            "3945/3945 [==============================] - 151s 38ms/step - loss: 0.8851 - accuracy: 0.7385 - val_loss: 3.0037 - val_accuracy: 0.5391\n",
            "Epoch 13/50\n",
            "3945/3945 [==============================] - 151s 38ms/step - loss: 0.8873 - accuracy: 0.7389 - val_loss: 3.0210 - val_accuracy: 0.5343\n",
            "Epoch 14/50\n",
            "3945/3945 [==============================] - 151s 38ms/step - loss: 0.8822 - accuracy: 0.7407 - val_loss: 3.0243 - val_accuracy: 0.5376\n",
            "Epoch 15/50\n",
            "3945/3945 [==============================] - 150s 38ms/step - loss: 0.8773 - accuracy: 0.7412 - val_loss: 3.0425 - val_accuracy: 0.5383\n",
            "Epoch 16/50\n",
            "3945/3945 [==============================] - 154s 39ms/step - loss: 0.8736 - accuracy: 0.7421 - val_loss: 3.0486 - val_accuracy: 0.5340\n",
            "Epoch 17/50\n",
            "3945/3945 [==============================] - 150s 38ms/step - loss: 0.8677 - accuracy: 0.7420 - val_loss: 3.0721 - val_accuracy: 0.5364\n",
            "Epoch 18/50\n",
            "3945/3945 [==============================] - 150s 38ms/step - loss: 0.8675 - accuracy: 0.7437 - val_loss: 3.0533 - val_accuracy: 0.5361\n",
            "Epoch 19/50\n",
            "3945/3945 [==============================] - 155s 39ms/step - loss: 0.8668 - accuracy: 0.7436 - val_loss: 3.0647 - val_accuracy: 0.5354\n",
            "Epoch 20/50\n",
            "3945/3945 [==============================] - 155s 39ms/step - loss: 0.8610 - accuracy: 0.7453 - val_loss: 3.0802 - val_accuracy: 0.5384\n",
            "Epoch 21/50\n",
            "3945/3945 [==============================] - 156s 40ms/step - loss: 0.8578 - accuracy: 0.7446 - val_loss: 3.0847 - val_accuracy: 0.5376\n",
            "Epoch 22/50\n",
            "3945/3945 [==============================] - 153s 39ms/step - loss: 0.8555 - accuracy: 0.7450 - val_loss: 3.0750 - val_accuracy: 0.5406\n",
            "Epoch 23/50\n",
            "3945/3945 [==============================] - 154s 39ms/step - loss: 0.8526 - accuracy: 0.7471 - val_loss: 3.0738 - val_accuracy: 0.5379\n",
            "Epoch 24/50\n",
            "3945/3945 [==============================] - 158s 40ms/step - loss: 0.8546 - accuracy: 0.7450 - val_loss: 3.1009 - val_accuracy: 0.5361\n",
            "Epoch 25/50\n",
            "3945/3945 [==============================] - 159s 40ms/step - loss: 0.8557 - accuracy: 0.7448 - val_loss: 3.1317 - val_accuracy: 0.5389\n",
            "Epoch 26/50\n",
            "3945/3945 [==============================] - 154s 39ms/step - loss: 0.8480 - accuracy: 0.7462 - val_loss: 3.1262 - val_accuracy: 0.5374\n",
            "Epoch 27/50\n",
            "3945/3945 [==============================] - 156s 39ms/step - loss: 0.8487 - accuracy: 0.7468 - val_loss: 3.1221 - val_accuracy: 0.5392\n",
            "Epoch 28/50\n",
            "3945/3945 [==============================] - 156s 39ms/step - loss: 0.8463 - accuracy: 0.7472 - val_loss: 3.1321 - val_accuracy: 0.5388\n",
            "Epoch 29/50\n",
            "3945/3945 [==============================] - 152s 38ms/step - loss: 0.8441 - accuracy: 0.7476 - val_loss: 3.1310 - val_accuracy: 0.5345\n",
            "Epoch 30/50\n",
            "3945/3945 [==============================] - 151s 38ms/step - loss: 0.8394 - accuracy: 0.7495 - val_loss: 3.1589 - val_accuracy: 0.5337\n",
            "Epoch 31/50\n",
            "3348/3945 [========================>.....] - ETA: 21s - loss: 0.8272 - accuracy: 0.7527"
          ]
        }
      ]
    },
    {
      "cell_type": "code",
      "source": [
        "# Train the model\n",
        "rnn_model.fit(X_train, y_train, epochs=30, verbose=1)\n"
      ],
      "metadata": {
        "id": "6n4TtOr8MUKg"
      },
      "execution_count": null,
      "outputs": []
    },
    {
      "cell_type": "code",
      "source": [
        "rnn_model.save('/content/drive/MyDrive/RecipeFusion/fusionrecipenayawala_rnn.h5')"
      ],
      "metadata": {
        "colab": {
          "base_uri": "https://localhost:8080/",
          "height": 141
        },
        "id": "hXYrNwET1hQa",
        "outputId": "ebde761e-aded-4fd0-99e2-55d4cfb7c67d"
      },
      "execution_count": null,
      "outputs": [
        {
          "output_type": "error",
          "ename": "NameError",
          "evalue": "name 'rnn_model' is not defined",
          "traceback": [
            "\u001b[0;31m---------------------------------------------------------------------------\u001b[0m",
            "\u001b[0;31mNameError\u001b[0m                                 Traceback (most recent call last)",
            "\u001b[0;32m<ipython-input-1-5c93679e91a4>\u001b[0m in \u001b[0;36m<cell line: 1>\u001b[0;34m()\u001b[0m\n\u001b[0;32m----> 1\u001b[0;31m \u001b[0mrnn_model\u001b[0m\u001b[0;34m.\u001b[0m\u001b[0msave\u001b[0m\u001b[0;34m(\u001b[0m\u001b[0;34m'/content/drive/MyDrive/RecipeFusion/fusionrecipenayawala_rnn.h5'\u001b[0m\u001b[0;34m)\u001b[0m\u001b[0;34m\u001b[0m\u001b[0;34m\u001b[0m\u001b[0m\n\u001b[0m",
            "\u001b[0;31mNameError\u001b[0m: name 'rnn_model' is not defined"
          ]
        }
      ]
    },
    {
      "cell_type": "code",
      "source": [
        " loss, accuracy = rnn_model.evaluate(X_test, y_test, verbose=0)"
      ],
      "metadata": {
        "id": "HeqiAmbI2sd8"
      },
      "execution_count": null,
      "outputs": []
    },
    {
      "cell_type": "code",
      "source": [
        " y_pred = [generate_next_word(model, sequence, tokenizer, max_sequence_length) for sequence in text_sequences]\n",
        "    f1 = f1_score(y_test, y_pred, average='weighted')\n",
        "\n",
        "    return loss, accuracy, f1"
      ],
      "metadata": {
        "id": "RR-3CF7U2tNp"
      },
      "execution_count": null,
      "outputs": []
    },
    {
      "cell_type": "code",
      "source": [
        "loss, accuracy, f1 = evaluate_model(rnn_model, tokenizer, max_sequence_length, X_test, y_test)\n",
        "print(\"Loss:\", loss)\n",
        "print(\"Accuracy:\", accuracy)\n",
        "print(\"F1 Score:\", f1)"
      ],
      "metadata": {
        "id": "L8ShaAQN2x8j"
      },
      "execution_count": null,
      "outputs": []
    },
    {
      "cell_type": "code",
      "source": [
        "rnn_model.save('/content/drive/MyDrive/Recipefusion/fusionrecipe_rnn.keras')  # The file needs to end with the .keras extension"
      ],
      "metadata": {
        "id": "j_2x_j3ZMUQR"
      },
      "execution_count": null,
      "outputs": []
    },
    {
      "cell_type": "code",
      "source": [
        "rnn_model.summary()"
      ],
      "metadata": {
        "id": "kcaVIv8NMhth"
      },
      "execution_count": null,
      "outputs": []
    },
    {
      "cell_type": "code",
      "source": [
        "from sklearn.metrics import accuracy_score, f1_score\n",
        "\n",
        "# Generate text sequences for the test set\n",
        "def generate_text_sequences(model, tokenizer, max_sequence_length, X_test):\n",
        "    text_sequences = []\n",
        "    for i in range(len(X_test)):\n",
        "        input_sequence = X_test[i]\n",
        "        input_text = ' '.join([tokenizer.index_word[idx] for idx in input_sequence if idx != 0])\n",
        "        text_sequences.append(input_text)\n",
        "    return text_sequences\n"
      ],
      "metadata": {
        "id": "vAZEj15uMj15"
      },
      "execution_count": null,
      "outputs": []
    },
    {
      "cell_type": "code",
      "source": [
        "def evaluate_model(model, tokenizer, max_sequence_length, X_test, y_test):\n",
        "    # Generate text sequences for the test set\n",
        "    text_sequences = generate_text_sequences(model, tokenizer, max_sequence_length, X_test)\n",
        "\n",
        "    # Evaluate accuracy\n",
        "    y_pred = []\n",
        "    for sequence in text_sequences:\n",
        "        # Generate the next word\n",
        "        predicted_index = generate_next_word(model, sequence, tokenizer, max_sequence_length)\n",
        "        y_pred.append(predicted_index)\n",
        "\n",
        "    # Calculate accuracy\n",
        "    accuracy = accuracy_score(y_test, y_pred)\n",
        "\n",
        "    # Calculate F1 score\n",
        "    f1 = f1_score(y_test, y_pred, average='weighted')\n",
        "\n",
        "    return accuracy, f1"
      ],
      "metadata": {
        "id": "upeNYFjoMj5G"
      },
      "execution_count": null,
      "outputs": []
    },
    {
      "cell_type": "code",
      "source": [
        "# Function to generate the next word in a sequence\n",
        "def generate_next_word(model, input_text, tokenizer, max_sequence_length):\n",
        "    # Convert input text to sequence\n",
        "    input_sequence = tokenizer.texts_to_sequences([input_text])[0]\n",
        "    padded_sequence = pad_sequences([input_sequence], maxlen=max_sequence_length-1, padding='pre')\n",
        "    # Predict next word\n",
        "    prediction = model.predict(padded_sequence)\n",
        "    # Get the index of the predicted word\n",
        "    predicted_index = np.argmax(prediction)\n",
        "    return predicted_index"
      ],
      "metadata": {
        "id": "QUmxDPQ_Msi4"
      },
      "execution_count": null,
      "outputs": []
    },
    {
      "cell_type": "code",
      "source": [
        "# Evaluate the model\n",
        "accuracy, f1 = evaluate_model(rnn_model, tokenizer, max_sequence_length, X_test, y_test)\n",
        "print(\"Accuracy:\", accuracy)\n",
        "print(\"F1 Score:\", f1)"
      ],
      "metadata": {
        "id": "CbpobpszMsnA"
      },
      "execution_count": null,
      "outputs": []
    },
    {
      "cell_type": "code",
      "source": [
        "import random\n",
        "import numpy as np\n",
        "\n",
        "# Function to generate text given a seed text\n",
        "def generate_text(seed_text, next_words, model, max_sequence_length):\n",
        "    for _ in range(next_words):\n",
        "        token_list = tokenizer.texts_to_sequences([seed_text])[0]\n",
        "        token_list = pad_sequences([token_list], maxlen=max_sequence_length-1, padding='pre')\n",
        "        predicted_probs = model.predict(token_list, verbose=0)\n",
        "        predicted = np.argmax(predicted_probs)\n",
        "        output_word = \"\"\n",
        "        for word, index in tokenizer.word_index.items():\n",
        "            if index == predicted:\n",
        "                output_word = word\n",
        "                break\n",
        "        seed_text += \" \" + output_word\n",
        "    return seed_text\n"
      ],
      "metadata": {
        "id": "Jk7pbp5dM1PT"
      },
      "execution_count": null,
      "outputs": []
    },
    {
      "cell_type": "code",
      "source": [
        "\n",
        "# Function to predict recipe instructions and ingredients based on the recipe name\n",
        "def predict_recipe(recipe_name, model, max_sequence_length):\n",
        "    recommended_recipe = generate_text(recipe_name, next_words=500, model=rnn_model, max_sequence_length=max_sequence_length)\n",
        "    return recommended_recipe\n",
        "\n",
        "# User input for the recipe name\n",
        "user_recipe_name = input(\"Enter a recipe name: \")\n",
        "\n",
        "# Generate recommendations based on the user's input\n",
        "recommended_recipe = predict_recipe(user_recipe_name, rnn_model, max_sequence_length)\n",
        "print(\"Recommended Recipe Instructions:\")\n",
        "print(recommended_recipe)\n"
      ],
      "metadata": {
        "id": "wWPmgtHPM1TH"
      },
      "execution_count": null,
      "outputs": []
    },
    {
      "cell_type": "code",
      "source": [
        "import keras\n",
        "model = keras.models.load_model('/content/drive/MyDrive/RecipeFusion/fusionrecipenayawala_rnn.h5')"
      ],
      "metadata": {
        "id": "CnaLrmGVM1Xe"
      },
      "execution_count": null,
      "outputs": []
    },
    {
      "cell_type": "code",
      "source": [
        "model.summary()"
      ],
      "metadata": {
        "id": "MqPO5kkCMsq9"
      },
      "execution_count": null,
      "outputs": []
    },
    {
      "cell_type": "code",
      "source": [
        "import random\n",
        "import numpy as np\n",
        "\n",
        "# Function to generate text given a seed text\n",
        "def generate_text(seed_text, next_words, model, max_sequence_length):\n",
        "    for _ in range(next_words):\n",
        "        token_list = tokenizer.texts_to_sequences([seed_text])[0]\n",
        "        token_list = pad_sequences([token_list], maxlen=max_sequence_length-1, padding='pre')\n",
        "        predicted_probs = model.predict(token_list, verbose=0)\n",
        "        predicted = np.argmax(predicted_probs)\n",
        "        output_word = \"\"\n",
        "        for word, index in tokenizer.word_index.items():\n",
        "            if index == predicted:\n",
        "                output_word = word\n",
        "                break\n",
        "        seed_text += \" \" + output_word\n",
        "    return seed_text\n"
      ],
      "metadata": {
        "id": "pZ_SdOu2Mj7x"
      },
      "execution_count": null,
      "outputs": []
    },
    {
      "cell_type": "code",
      "source": [
        "\n",
        "# Function to predict recipe instructions and ingredients based on the recipe name\n",
        "def predict_recipe(recipe_name, model, max_sequence_length):\n",
        "    recommended_recipe = generate_text(recipe_name, next_words=500, model=model, max_sequence_length=max_sequence_length)\n",
        "    return recommended_recipe\n",
        "\n",
        "# User input for the recipe name\n",
        "user_recipe_name = input(\"Enter a recipe name: \")\n",
        "\n",
        "# Generate recommendations based on the user's input\n",
        "recommended_recipe = predict_recipe(user_recipe_name, model, max_sequence_length)\n",
        "print(\"Recommended Recipe Instructions:\")\n",
        "print(recommended_recipe)\n"
      ],
      "metadata": {
        "id": "N9YGl0BsNQRD"
      },
      "execution_count": null,
      "outputs": []
    }
  ]
}